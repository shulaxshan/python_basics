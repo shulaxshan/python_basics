{
 "cells": [
  {
   "cell_type": "code",
   "execution_count": 4,
   "id": "be8b8e91",
   "metadata": {},
   "outputs": [],
   "source": [
    "my_name= \"Chulaxshan\""
   ]
  },
  {
   "cell_type": "code",
   "execution_count": 5,
   "id": "d3f2aa52-8b91-4fc7-88f0-e7b325c1bd98",
   "metadata": {},
   "outputs": [
    {
     "name": "stdout",
     "output_type": "stream",
     "text": [
      "True\n",
      "True\n",
      "False\n",
      "True\n",
      "False\n",
      "False\n",
      "False\n",
      "False\n",
      "True\n"
     ]
    }
   ],
   "source": [
    "print(my_name.isalnum()) #check if all char are numbers\n",
    "print(my_name.isalpha()) #check if all char in the string are alphabetic\n",
    "print(my_name.isdigit()) #test if string contains digits\n",
    "print(my_name.istitle()) #test if string contains title words\n",
    "print(my_name.isupper()) #test if string contains upper case\n",
    "print(my_name.islower()) #test if string contains lower case\n",
    "print(my_name.isspace()) #test if string contains spaces\n",
    "print(my_name.endswith('N')) #test if string endswith a N\n",
    "print(my_name.startswith('C')) #test if string startswith C"
   ]
  },
  {
   "cell_type": "markdown",
   "id": "18767749-644d-4564-a155-7349a1a10444",
   "metadata": {},
   "source": [
    "### Boolean and Logical Operators"
   ]
  },
  {
   "cell_type": "code",
   "execution_count": 6,
   "id": "33dad9b4-d007-4d4f-9e58-a808a0c5f87c",
   "metadata": {},
   "outputs": [
    {
     "data": {
      "text/plain": [
       "True"
      ]
     },
     "execution_count": 6,
     "metadata": {},
     "output_type": "execute_result"
    }
   ],
   "source": [
    "True and True"
   ]
  },
  {
   "cell_type": "code",
   "execution_count": 7,
   "id": "928af079-f943-4536-a0b4-f008e460019d",
   "metadata": {},
   "outputs": [
    {
     "data": {
      "text/plain": [
       "True"
      ]
     },
     "execution_count": 7,
     "metadata": {},
     "output_type": "execute_result"
    }
   ],
   "source": [
    "True or False"
   ]
  },
  {
   "cell_type": "code",
   "execution_count": 8,
   "id": "ccaed32a-709a-4dc0-9327-486c068d43c4",
   "metadata": {},
   "outputs": [
    {
     "data": {
      "text/plain": [
       "False"
      ]
     },
     "execution_count": 8,
     "metadata": {},
     "output_type": "execute_result"
    }
   ],
   "source": [
    "True and False"
   ]
  },
  {
   "cell_type": "code",
   "execution_count": 9,
   "id": "0657759b-6254-4b6f-b2b0-65342ae860ba",
   "metadata": {},
   "outputs": [],
   "source": [
    "str_example='Hello World'\n",
    "my_str='chulax'"
   ]
  },
  {
   "cell_type": "code",
   "execution_count": 10,
   "id": "840b099a-415e-4cd7-a4ee-9723f7da5da7",
   "metadata": {},
   "outputs": [
    {
     "data": {
      "text/plain": [
       "True"
      ]
     },
     "execution_count": 10,
     "metadata": {},
     "output_type": "execute_result"
    }
   ],
   "source": [
    "my_str.isalpha() or str_example.isnum()"
   ]
  },
  {
   "cell_type": "markdown",
   "id": "0078fffa-33e4-44ef-b8da-e288cf2278fe",
   "metadata": {},
   "source": [
    "### List"
   ]
  },
  {
   "cell_type": "code",
   "execution_count": 32,
   "id": "c963deee-41b0-49ca-ac0c-80fe24d4f458",
   "metadata": {},
   "outputs": [],
   "source": [
    "lt =[12,13,14,'chulax']"
   ]
  },
  {
   "cell_type": "code",
   "execution_count": 33,
   "id": "fc7b456a-99e1-4e14-a545-b025236a1bef",
   "metadata": {},
   "outputs": [
    {
     "data": {
      "text/plain": [
       "list"
      ]
     },
     "execution_count": 33,
     "metadata": {},
     "output_type": "execute_result"
    }
   ],
   "source": [
    "type(lt)"
   ]
  },
  {
   "cell_type": "code",
   "execution_count": 34,
   "id": "7c216f10-af8a-447c-9575-d38e36c4833c",
   "metadata": {},
   "outputs": [
    {
     "data": {
      "text/plain": [
       "4"
      ]
     },
     "execution_count": 34,
     "metadata": {},
     "output_type": "execute_result"
    }
   ],
   "source": [
    "len(lt)"
   ]
  },
  {
   "cell_type": "markdown",
   "id": "bc004cc1-6e03-4cfe-b92b-2e4d18ec11d7",
   "metadata": {},
   "source": [
    "##### Append"
   ]
  },
  {
   "cell_type": "code",
   "execution_count": 35,
   "id": "8dbae4c3-f622-4162-9249-d101a7e2fbdf",
   "metadata": {},
   "outputs": [],
   "source": [
    "lt.append('shan')"
   ]
  },
  {
   "cell_type": "code",
   "execution_count": 36,
   "id": "427e19f4-2d7f-4360-8e8d-5042c373d582",
   "metadata": {},
   "outputs": [
    {
     "data": {
      "text/plain": [
       "[12, 13, 14, 'chulax', 'shan']"
      ]
     },
     "execution_count": 36,
     "metadata": {},
     "output_type": "execute_result"
    }
   ],
   "source": [
    "lt"
   ]
  },
  {
   "cell_type": "code",
   "execution_count": 37,
   "id": "f56acb90-5783-4bae-aaa6-f8d96de2ce15",
   "metadata": {},
   "outputs": [],
   "source": [
    "lt.append([\"egg\",\"chicken\"])"
   ]
  },
  {
   "cell_type": "code",
   "execution_count": 38,
   "id": "db95955a-e7ab-401e-ad68-4ccc12f77073",
   "metadata": {},
   "outputs": [],
   "source": [
    "lt.insert(1,12.5)"
   ]
  },
  {
   "cell_type": "code",
   "execution_count": 39,
   "id": "68b92dc1-d70a-48fe-bf57-329fe326359f",
   "metadata": {},
   "outputs": [
    {
     "data": {
      "text/plain": [
       "[12, 12.5, 13, 14, 'chulax', 'shan', ['egg', 'chicken']]"
      ]
     },
     "execution_count": 39,
     "metadata": {},
     "output_type": "execute_result"
    }
   ],
   "source": [
    "lt"
   ]
  },
  {
   "cell_type": "code",
   "execution_count": 40,
   "id": "e250680f-dd52-4e55-8899-2df0ab88a9fe",
   "metadata": {},
   "outputs": [
    {
     "data": {
      "text/plain": [
       "[13, 14, 'chulax', 'shan', ['egg', 'chicken']]"
      ]
     },
     "execution_count": 40,
     "metadata": {},
     "output_type": "execute_result"
    }
   ],
   "source": [
    "lt[2:]"
   ]
  },
  {
   "cell_type": "markdown",
   "id": "6f851fa6-7a42-456d-a368-c6fd7d10205d",
   "metadata": {},
   "source": [
    "#### Extend Method"
   ]
  },
  {
   "cell_type": "code",
   "execution_count": 26,
   "id": "6e9a2ade-aae4-49a5-ba99-8a36fd55a52c",
   "metadata": {},
   "outputs": [],
   "source": [
    "lit = [1,2,3,4,5,6]"
   ]
  },
  {
   "cell_type": "code",
   "execution_count": 27,
   "id": "42ec8196-905a-4564-9b40-d3a7cd2a204e",
   "metadata": {},
   "outputs": [],
   "source": [
    "lit.extend([8,9])"
   ]
  },
  {
   "cell_type": "code",
   "execution_count": 28,
   "id": "1fe37068-2796-496b-8779-282dc94c9855",
   "metadata": {},
   "outputs": [
    {
     "data": {
      "text/plain": [
       "[1, 2, 3, 4, 5, 6, 8, 9]"
      ]
     },
     "execution_count": 28,
     "metadata": {},
     "output_type": "execute_result"
    }
   ],
   "source": [
    "lit"
   ]
  },
  {
   "cell_type": "markdown",
   "id": "357f462b-add4-487b-b5a6-ad83a27af0c2",
   "metadata": {},
   "source": [
    "### Various Operations that we can perform in List"
   ]
  },
  {
   "cell_type": "code",
   "execution_count": 41,
   "id": "2db319db-1044-426e-9159-cadb9b24760d",
   "metadata": {},
   "outputs": [],
   "source": [
    "lst=[1,2,3,4,5]"
   ]
  },
  {
   "cell_type": "code",
   "execution_count": 42,
   "id": "aac60c9c-7020-4d94-8d0b-d300418eb91c",
   "metadata": {},
   "outputs": [
    {
     "data": {
      "text/plain": [
       "15"
      ]
     },
     "execution_count": 42,
     "metadata": {},
     "output_type": "execute_result"
    }
   ],
   "source": [
    "sum(lst)"
   ]
  },
  {
   "cell_type": "code",
   "execution_count": 43,
   "id": "8136a213-cc54-4129-8eea-ca38eb2e75ca",
   "metadata": {},
   "outputs": [
    {
     "data": {
      "text/plain": [
       "[1, 2, 3, 4, 5, 1, 2, 3, 4, 5, 1, 2, 3, 4, 5, 1, 2, 3, 4, 5, 1, 2, 3, 4, 5]"
      ]
     },
     "execution_count": 43,
     "metadata": {},
     "output_type": "execute_result"
    }
   ],
   "source": [
    "lst*5"
   ]
  },
  {
   "cell_type": "markdown",
   "id": "3db1d511-9af3-478b-9eb5-6462cce0e1a6",
   "metadata": {},
   "source": [
    "#### Pop() Method"
   ]
  },
  {
   "cell_type": "code",
   "execution_count": 44,
   "id": "4567804e-89ee-46bf-b094-5267a10f9d6d",
   "metadata": {},
   "outputs": [
    {
     "data": {
      "text/plain": [
       "5"
      ]
     },
     "execution_count": 44,
     "metadata": {},
     "output_type": "execute_result"
    }
   ],
   "source": [
    "lst.pop()  ### It remove last element from the list in default "
   ]
  },
  {
   "cell_type": "code",
   "execution_count": 45,
   "id": "3dec4f1f-809c-48af-a78d-f7beec5796dd",
   "metadata": {},
   "outputs": [
    {
     "data": {
      "text/plain": [
       "[1, 2, 3, 4]"
      ]
     },
     "execution_count": 45,
     "metadata": {},
     "output_type": "execute_result"
    }
   ],
   "source": [
    "lst"
   ]
  },
  {
   "cell_type": "code",
   "execution_count": 46,
   "id": "d08bac4a-1c65-4b19-bbfc-eb4ca874f664",
   "metadata": {},
   "outputs": [
    {
     "data": {
      "text/plain": [
       "1"
      ]
     },
     "execution_count": 46,
     "metadata": {},
     "output_type": "execute_result"
    }
   ],
   "source": [
    "lst.pop(0)  ### First index will be removed from the list"
   ]
  },
  {
   "cell_type": "code",
   "execution_count": 47,
   "id": "d1d1839f-1574-4b57-970c-d63243b8ef8b",
   "metadata": {},
   "outputs": [
    {
     "data": {
      "text/plain": [
       "[2, 3, 4]"
      ]
     },
     "execution_count": 47,
     "metadata": {},
     "output_type": "execute_result"
    }
   ],
   "source": [
    "lst"
   ]
  },
  {
   "cell_type": "markdown",
   "id": "d0676f5a-b848-4728-9fb4-601a7d012ee0",
   "metadata": {},
   "source": [
    "### count():Calculates total occurrence of given element of List"
   ]
  },
  {
   "cell_type": "code",
   "execution_count": 48,
   "id": "a9146905-dc6c-480a-bade-0d3798dde631",
   "metadata": {},
   "outputs": [
    {
     "data": {
      "text/plain": [
       "2"
      ]
     },
     "execution_count": 48,
     "metadata": {},
     "output_type": "execute_result"
    }
   ],
   "source": [
    "lst=[1,1,2,3,4,5]\n",
    "lst.count(1)"
   ]
  },
  {
   "cell_type": "code",
   "execution_count": 49,
   "id": "e6aa038e-a961-4673-a763-81558561ab9c",
   "metadata": {},
   "outputs": [
    {
     "data": {
      "text/plain": [
       "6"
      ]
     },
     "execution_count": 49,
     "metadata": {},
     "output_type": "execute_result"
    }
   ],
   "source": [
    "#length:Calculates total length of List\n",
    "len(lst)"
   ]
  },
  {
   "cell_type": "code",
   "execution_count": 55,
   "id": "d711eb17-176c-46e1-891d-0968ec1ded91",
   "metadata": {},
   "outputs": [
    {
     "data": {
      "text/plain": [
       "3"
      ]
     },
     "execution_count": 55,
     "metadata": {},
     "output_type": "execute_result"
    }
   ],
   "source": [
    "# index(): Returns the index of first occurrence. Start and End index are not necessary parameters\n",
    "lst.index(3,1,4)"
   ]
  },
  {
   "cell_type": "code",
   "execution_count": 50,
   "id": "d5886977-3c77-4eb0-ab06-5430ae0b7ee5",
   "metadata": {},
   "outputs": [
    {
     "data": {
      "text/plain": [
       "1"
      ]
     },
     "execution_count": 50,
     "metadata": {},
     "output_type": "execute_result"
    }
   ],
   "source": [
    "##Min and Max\n",
    "min(lst)"
   ]
  },
  {
   "cell_type": "markdown",
   "id": "404836cd-890a-4b07-bcb6-21f891b5911b",
   "metadata": {},
   "source": [
    "### SET"
   ]
  },
  {
   "cell_type": "raw",
   "id": "b4d72f2c-ea22-4185-b0e7-5bb6cff1b016",
   "metadata": {},
   "source": [
    "A Set is an unordered collection data type that is iterable, mutable, and has no duplicate elements. Python's set class represents the mathematical notion of a set.This is based on a data structure known as a hash table"
   ]
  },
  {
   "cell_type": "code",
   "execution_count": 56,
   "id": "34387f91-e7ac-4337-99dc-d5214057cfda",
   "metadata": {},
   "outputs": [
    {
     "name": "stdout",
     "output_type": "stream",
     "text": [
      "set()\n",
      "<class 'set'>\n"
     ]
    }
   ],
   "source": [
    "set_var= set()\n",
    "print(set_var)\n",
    "print(type(set_var))"
   ]
  },
  {
   "cell_type": "code",
   "execution_count": 57,
   "id": "b1f1cd3e-78f5-4f41-a8ee-0f7e0475ac76",
   "metadata": {},
   "outputs": [],
   "source": [
    "set_var={1,2,3,3,4,4,5}"
   ]
  },
  {
   "cell_type": "code",
   "execution_count": 58,
   "id": "afca0491-b306-47b5-9096-2a398a7fee6f",
   "metadata": {},
   "outputs": [
    {
     "data": {
      "text/plain": [
       "{1, 2, 3, 4, 5}"
      ]
     },
     "execution_count": 58,
     "metadata": {},
     "output_type": "execute_result"
    }
   ],
   "source": [
    "set_var"
   ]
  },
  {
   "cell_type": "code",
   "execution_count": 59,
   "id": "21819522-79cf-4ab2-a4a9-1fa615b1502c",
   "metadata": {},
   "outputs": [
    {
     "name": "stdout",
     "output_type": "stream",
     "text": [
      "{'IronMan', 'Hitman', 'Avengers'}\n"
     ]
    },
    {
     "data": {
      "text/plain": [
       "set"
      ]
     },
     "execution_count": 59,
     "metadata": {},
     "output_type": "execute_result"
    }
   ],
   "source": [
    "set_var={\"Avengers\",\"IronMan\",'Hitman'}\n",
    "print(set_var)\n",
    "type(set_var)"
   ]
  },
  {
   "cell_type": "code",
   "execution_count": 60,
   "id": "4a73e5d6-9bb2-49bd-889b-9e69e0b84489",
   "metadata": {},
   "outputs": [],
   "source": [
    "## Inbuilt function in sets\n",
    "\n",
    "set_var.add(\"Hulk\")"
   ]
  },
  {
   "cell_type": "code",
   "execution_count": 61,
   "id": "1ef8dcc2-3bc0-4833-9692-32d75cea28f8",
   "metadata": {},
   "outputs": [
    {
     "data": {
      "text/plain": [
       "{'Avengers', 'Hitman', 'Hulk', 'IronMan'}"
      ]
     },
     "execution_count": 61,
     "metadata": {},
     "output_type": "execute_result"
    }
   ],
   "source": [
    "set_var"
   ]
  },
  {
   "cell_type": "code",
   "execution_count": 76,
   "id": "e3535ecf-b43b-41f8-b497-37201d5d2f7d",
   "metadata": {},
   "outputs": [],
   "source": [
    "set1={\"Avengers\",\"IronMan\",'Hitman'}\n",
    "set2={\"Avengers\",\"IronMan\",'Hitman','Hulk2'}"
   ]
  },
  {
   "cell_type": "code",
   "execution_count": 72,
   "id": "44b10856-9ca3-48cf-a67e-490daf04c4cb",
   "metadata": {},
   "outputs": [],
   "source": [
    "set2.intersection_update(set1)"
   ]
  },
  {
   "cell_type": "code",
   "execution_count": 73,
   "id": "65a59315-3a88-430f-b701-b304206ebf45",
   "metadata": {},
   "outputs": [
    {
     "data": {
      "text/plain": [
       "{'Avengers', 'Hitman', 'IronMan'}"
      ]
     },
     "execution_count": 73,
     "metadata": {},
     "output_type": "execute_result"
    }
   ],
   "source": [
    "set2"
   ]
  },
  {
   "cell_type": "code",
   "execution_count": 77,
   "id": "cf66cc9b-7476-4996-8d61-f69284625df5",
   "metadata": {},
   "outputs": [
    {
     "data": {
      "text/plain": [
       "{'Hulk2'}"
      ]
     },
     "execution_count": 77,
     "metadata": {},
     "output_type": "execute_result"
    }
   ],
   "source": [
    "##Difference \n",
    "set2.difference(set1)"
   ]
  },
  {
   "cell_type": "markdown",
   "id": "504fa977-a884-42d0-84cb-779af4befeec",
   "metadata": {},
   "source": [
    "### Dictionaries"
   ]
  },
  {
   "cell_type": "code",
   "execution_count": 79,
   "id": "48f72098-87f1-4d0a-adeb-abeb014e7842",
   "metadata": {},
   "outputs": [],
   "source": [
    "dic={}"
   ]
  },
  {
   "cell_type": "code",
   "execution_count": 80,
   "id": "043d16ca-8935-4d02-8c2b-e2d67d6dd493",
   "metadata": {},
   "outputs": [
    {
     "data": {
      "text/plain": [
       "dict"
      ]
     },
     "execution_count": 80,
     "metadata": {},
     "output_type": "execute_result"
    }
   ],
   "source": [
    "type(dic)"
   ]
  },
  {
   "cell_type": "code",
   "execution_count": 81,
   "id": "5b9cf095-df78-4139-b4af-f852fd315d87",
   "metadata": {},
   "outputs": [
    {
     "data": {
      "text/plain": [
       "dict"
      ]
     },
     "execution_count": 81,
     "metadata": {},
     "output_type": "execute_result"
    }
   ],
   "source": [
    "type(dict())"
   ]
  },
  {
   "cell_type": "code",
   "execution_count": 82,
   "id": "73fd48de-9376-4af6-b3e8-d6120b004b98",
   "metadata": {},
   "outputs": [],
   "source": [
    "set_ex = {1,2,43}"
   ]
  },
  {
   "cell_type": "code",
   "execution_count": 83,
   "id": "13284bb7-364f-41d6-8140-35120ca527bd",
   "metadata": {},
   "outputs": [
    {
     "data": {
      "text/plain": [
       "set"
      ]
     },
     "execution_count": 83,
     "metadata": {},
     "output_type": "execute_result"
    }
   ],
   "source": [
    "type(set_ex)"
   ]
  },
  {
   "cell_type": "code",
   "execution_count": 84,
   "id": "7de892f2-40a7-4413-b7a3-52bf92b772ee",
   "metadata": {},
   "outputs": [],
   "source": [
    "## Let create a dictionary\n",
    "\n",
    "my_dict={\"Car1\": \"Audi\", \"Car2\":\"BMW\",\"Car3\":\"Mercidies Benz\"}"
   ]
  },
  {
   "cell_type": "code",
   "execution_count": 85,
   "id": "69ccdf54-a96f-4c7f-826d-c24754daf0cf",
   "metadata": {},
   "outputs": [
    {
     "data": {
      "text/plain": [
       "dict"
      ]
     },
     "execution_count": 85,
     "metadata": {},
     "output_type": "execute_result"
    }
   ],
   "source": [
    "type(my_dict)"
   ]
  },
  {
   "cell_type": "code",
   "execution_count": 86,
   "id": "9536f363-8a39-4977-9e71-64627211719e",
   "metadata": {},
   "outputs": [
    {
     "data": {
      "text/plain": [
       "'Audi'"
      ]
     },
     "execution_count": 86,
     "metadata": {},
     "output_type": "execute_result"
    }
   ],
   "source": [
    "my_dict['Car1']"
   ]
  },
  {
   "cell_type": "code",
   "execution_count": 88,
   "id": "1b04f9f8-eb6a-49d5-a3ad-76be085b3cf2",
   "metadata": {},
   "outputs": [
    {
     "name": "stdout",
     "output_type": "stream",
     "text": [
      "Audi\n",
      "BMW\n",
      "Mercidies Benz\n"
     ]
    }
   ],
   "source": [
    "for x in my_dict.values():\n",
    "    print(x)"
   ]
  },
  {
   "cell_type": "code",
   "execution_count": 89,
   "id": "2c02765d-4d51-4d14-ac8c-7916a09f2fcf",
   "metadata": {},
   "outputs": [
    {
     "name": "stdout",
     "output_type": "stream",
     "text": [
      "('Car1', 'Audi')\n",
      "('Car2', 'BMW')\n",
      "('Car3', 'Mercidies Benz')\n"
     ]
    }
   ],
   "source": [
    "# We can also check both keys and values\n",
    "for x in my_dict.items():\n",
    "    print(x)"
   ]
  },
  {
   "cell_type": "code",
   "execution_count": 90,
   "id": "78d0da7e-95f7-4dab-9156-4a466a4e61f8",
   "metadata": {},
   "outputs": [],
   "source": [
    "## Adding items in Dictionaries\n",
    "\n",
    "my_dict['car4']='Audi 2.0'"
   ]
  },
  {
   "cell_type": "code",
   "execution_count": 91,
   "id": "0220ce48-7e41-4f59-86d0-952e692cff87",
   "metadata": {},
   "outputs": [
    {
     "data": {
      "text/plain": [
       "{'Car1': 'Audi', 'Car2': 'BMW', 'Car3': 'Mercidies Benz', 'car4': 'Audi 2.0'}"
      ]
     },
     "execution_count": 91,
     "metadata": {},
     "output_type": "execute_result"
    }
   ],
   "source": [
    "my_dict"
   ]
  },
  {
   "cell_type": "code",
   "execution_count": 92,
   "id": "50781ee7-6078-40a8-bd50-e57fc192c968",
   "metadata": {},
   "outputs": [],
   "source": [
    "my_dict['Car1']='MAruti'"
   ]
  },
  {
   "cell_type": "code",
   "execution_count": 93,
   "id": "8ce853d7-b2a7-4f92-bf77-2e2989e546b5",
   "metadata": {},
   "outputs": [
    {
     "data": {
      "text/plain": [
       "{'Car1': 'MAruti', 'Car2': 'BMW', 'Car3': 'Mercidies Benz', 'car4': 'Audi 2.0'}"
      ]
     },
     "execution_count": 93,
     "metadata": {},
     "output_type": "execute_result"
    }
   ],
   "source": [
    "my_dict"
   ]
  },
  {
   "cell_type": "markdown",
   "id": "479e05d2-3585-4fde-8520-8a11370ee48b",
   "metadata": {},
   "source": [
    "### Tuples"
   ]
  },
  {
   "cell_type": "code",
   "execution_count": 94,
   "id": "592f4d18-e742-4884-a7a1-ad36db48bf7a",
   "metadata": {},
   "outputs": [],
   "source": [
    "## create an empty Tuples\n",
    "\n",
    "my_tuple=tuple()"
   ]
  },
  {
   "cell_type": "code",
   "execution_count": 95,
   "id": "009aebad-e75f-4931-9591-fd4f660fe3a6",
   "metadata": {},
   "outputs": [
    {
     "data": {
      "text/plain": [
       "tuple"
      ]
     },
     "execution_count": 95,
     "metadata": {},
     "output_type": "execute_result"
    }
   ],
   "source": [
    "type(my_tuple)"
   ]
  },
  {
   "cell_type": "code",
   "execution_count": 96,
   "id": "dcff0a5a-a9a7-4b5d-9c4c-7d1f47bce3e0",
   "metadata": {},
   "outputs": [],
   "source": [
    "my_tuple=(\"Chulax\",\"Ankur\",\"John\")"
   ]
  },
  {
   "cell_type": "code",
   "execution_count": 97,
   "id": "b03cc8b9-deac-46da-8b0d-585025dd6a15",
   "metadata": {},
   "outputs": [],
   "source": [
    "my_tuple=('Hello','World')"
   ]
  },
  {
   "cell_type": "code",
   "execution_count": 98,
   "id": "d9a94eb7-cc7b-41a9-8b97-ebff99fc3404",
   "metadata": {},
   "outputs": [
    {
     "name": "stdout",
     "output_type": "stream",
     "text": [
      "<class 'tuple'>\n",
      "('Hello', 'World')\n"
     ]
    }
   ],
   "source": [
    "print(type(my_tuple))\n",
    "print(my_tuple)"
   ]
  },
  {
   "cell_type": "code",
   "execution_count": 101,
   "id": "04378ea0-91e9-4deb-a0b3-8fe9c2d556f9",
   "metadata": {},
   "outputs": [
    {
     "data": {
      "text/plain": [
       "1"
      ]
     },
     "execution_count": 101,
     "metadata": {},
     "output_type": "execute_result"
    }
   ],
   "source": [
    "my_tuple.count('Hello')"
   ]
  },
  {
   "cell_type": "code",
   "execution_count": 102,
   "id": "732d32b6-d2e7-4d4c-aa07-41cebb02f828",
   "metadata": {},
   "outputs": [
    {
     "data": {
      "text/plain": [
       "1"
      ]
     },
     "execution_count": 102,
     "metadata": {},
     "output_type": "execute_result"
    }
   ],
   "source": [
    "my_tuple.index('World')"
   ]
  },
  {
   "cell_type": "code",
   "execution_count": null,
   "id": "ebaaa4ba-c4eb-4459-982d-bf7a0c83b658",
   "metadata": {},
   "outputs": [],
   "source": []
  }
 ],
 "metadata": {
  "kernelspec": {
   "display_name": "Python 3 (ipykernel)",
   "language": "python",
   "name": "python3"
  },
  "language_info": {
   "codemirror_mode": {
    "name": "ipython",
    "version": 3
   },
   "file_extension": ".py",
   "mimetype": "text/x-python",
   "name": "python",
   "nbconvert_exporter": "python",
   "pygments_lexer": "ipython3",
   "version": "3.9.13"
  }
 },
 "nbformat": 4,
 "nbformat_minor": 5
}
